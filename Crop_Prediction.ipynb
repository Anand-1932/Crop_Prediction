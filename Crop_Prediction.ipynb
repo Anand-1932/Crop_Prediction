{
  "nbformat": 4,
  "nbformat_minor": 0,
  "metadata": {
    "colab": {
      "provenance": [],
      "authorship_tag": "ABX9TyMjP8CCgepdTpp8g+jtuzrr",
      "include_colab_link": true
    },
    "kernelspec": {
      "name": "python3",
      "display_name": "Python 3"
    },
    "language_info": {
      "name": "python"
    }
  },
  "cells": [
    {
      "cell_type": "markdown",
      "metadata": {
        "id": "view-in-github",
        "colab_type": "text"
      },
      "source": [
        "<a href=\"https://colab.research.google.com/github/Anand-1932/Crop_Prediction/blob/main/Crop_Prediction.ipynb\" target=\"_parent\"><img src=\"https://colab.research.google.com/assets/colab-badge.svg\" alt=\"Open In Colab\"/></a>"
      ]
    },
    {
      "cell_type": "markdown",
      "source": [
        "# **Problem Statement**\n",
        "Here we have dataset which contain information about the soil like nitrogen level, phasphorous level, potassium level, and tempreture, rainfall in that place and we have to predict which crop will cultivated according to given information."
      ],
      "metadata": {
        "id": "L0bjzZAnPkU4"
      }
    },
    {
      "cell_type": "code",
      "execution_count": null,
      "metadata": {
        "id": "UDthI-aeuWCC"
      },
      "outputs": [],
      "source": [
        "import pandas as pd\n",
        "import numpy as np\n",
        "import matplotlib.pyplot as plt\n",
        "import seaborn as sns\n",
        "import warnings\n",
        "warnings.filterwarnings('ignore')"
      ]
    },
    {
      "cell_type": "code",
      "source": [
        "from sklearn.preprocessing import StandardScaler\n",
        "from sklearn.compose import ColumnTransformer\n",
        "from sklearn.pipeline import Pipeline\n",
        "from sklearn.model_selection import train_test_split"
      ],
      "metadata": {
        "id": "PlBLdg3qd1mz"
      },
      "execution_count": null,
      "outputs": []
    },
    {
      "cell_type": "code",
      "source": [
        "from sklearn.linear_model import LogisticRegression\n",
        "from sklearn.ensemble import RandomForestClassifier\n",
        "from sklearn.tree import DecisionTreeClassifier\n",
        "from sklearn.neighbors import KNeighborsClassifier\n",
        "from sklearn.metrics import accuracy_score,classification_report\n",
        "from sklearn.model_selection import GridSearchCV"
      ],
      "metadata": {
        "id": "xxFfJN0UsvJI"
      },
      "execution_count": null,
      "outputs": []
    },
    {
      "cell_type": "code",
      "source": [
        "df = pd.read_csv(\"/content/Crop_recommendation.csv\")"
      ],
      "metadata": {
        "id": "T_eF-mf7cioG"
      },
      "execution_count": null,
      "outputs": []
    },
    {
      "cell_type": "code",
      "source": [
        "df"
      ],
      "metadata": {
        "id": "kNSSqxPUdWP4"
      },
      "execution_count": null,
      "outputs": []
    },
    {
      "cell_type": "markdown",
      "source": [
        "\n",
        "\n",
        "# *   **N :-** Nitrogen level of the soil\n",
        "\n",
        "# *   **p :-** Phosphoros level of the soil\n",
        "\n",
        "# *   **k :-** Potassium level of the soil\n",
        "\n",
        "# *   **Tempreture :-** Tempreture of the area\n",
        "# *   **Humidity :-** Humidity of the area\n",
        "\n",
        "\n",
        "# *   **PH :-** PH value of the soil\n",
        "\n",
        "\n",
        "# *   **Rainfall :-** Rainfall in that area\n",
        "\n",
        "\n",
        "\n",
        "\n"
      ],
      "metadata": {
        "id": "DJo8UBBcQeLP"
      }
    },
    {
      "cell_type": "code",
      "source": [
        "df.shape"
      ],
      "metadata": {
        "id": "6KK9uunldzpx"
      },
      "execution_count": null,
      "outputs": []
    },
    {
      "cell_type": "markdown",
      "source": [
        "# ***Basic checks***"
      ],
      "metadata": {
        "id": "bJZy9xDYRozx"
      }
    },
    {
      "cell_type": "code",
      "source": [
        "df.head()"
      ],
      "metadata": {
        "id": "qRAFmhfARn17"
      },
      "execution_count": null,
      "outputs": []
    },
    {
      "cell_type": "code",
      "source": [
        "df.tail()"
      ],
      "metadata": {
        "id": "sL3y3XWcRt0d"
      },
      "execution_count": null,
      "outputs": []
    },
    {
      "cell_type": "code",
      "source": [
        "df.isnull().sum()"
      ],
      "metadata": {
        "id": "Fahy_PF1Ru_M"
      },
      "execution_count": null,
      "outputs": []
    },
    {
      "cell_type": "code",
      "source": [
        "df.info()"
      ],
      "metadata": {
        "id": "RABgQSPeSb72"
      },
      "execution_count": null,
      "outputs": []
    },
    {
      "cell_type": "code",
      "source": [
        "df.describe(include='all')"
      ],
      "metadata": {
        "id": "4keeBGisSdQq"
      },
      "execution_count": null,
      "outputs": []
    },
    {
      "cell_type": "code",
      "source": [],
      "metadata": {
        "id": "aWzy3Ab2SlfW"
      },
      "execution_count": null,
      "outputs": []
    },
    {
      "cell_type": "markdown",
      "source": [
        "# ***EDA***"
      ],
      "metadata": {
        "id": "H4POFs0HS2ev"
      }
    },
    {
      "cell_type": "code",
      "source": [
        "plt.figure(figsize = (14,4))\n",
        "plt.subplot(121)\n",
        "df['N'].value_counts().plot(kind='kde')\n",
        "plt.title('Nitrogen Level')\n",
        "\n",
        "plt.subplot(122)\n",
        "sns.distplot(df['N'])\n",
        "plt.title('Nitrogen Level')"
      ],
      "metadata": {
        "id": "Y7faqvBwS6JI"
      },
      "execution_count": null,
      "outputs": []
    },
    {
      "cell_type": "markdown",
      "source": [
        "* Data is right skewed\n",
        "* Most of value range between 0 to 50\n",
        "* Min value is 0 and Maximum value is near 140\n",
        "\n",
        "\n",
        "\n"
      ],
      "metadata": {
        "id": "HaQtcVzQTt8H"
      }
    },
    {
      "cell_type": "code",
      "source": [
        "plt.figure(figsize = (14,4))\n",
        "plt.subplot(121)\n",
        "df['P'].value_counts().plot(kind='kde')\n",
        "plt.title('Phosphrous Level')\n",
        "\n",
        "plt.subplot(122)\n",
        "sns.distplot(df['P'])\n",
        "plt.title('Phosphrous Level')"
      ],
      "metadata": {
        "id": "Lc6AZxz0TTLn"
      },
      "execution_count": null,
      "outputs": []
    },
    {
      "cell_type": "markdown",
      "source": [
        "* Data is not distributed normally\n",
        "* Most of the value range between 0 to 100.\n",
        "* Minimum value is near 0 and maximum value is near 150"
      ],
      "metadata": {
        "id": "fMvZWeE3VlUZ"
      }
    },
    {
      "cell_type": "code",
      "source": [
        "plt.figure(figsize=(14,4))\n",
        "\n",
        "plt.subplot(121)\n",
        "df['K'].value_counts().plot(kind = 'kde')\n",
        "plt.title('Potassium Level')\n",
        "\n",
        "plt.subplot(122)\n",
        "sns.distplot(df['K'])\n",
        "plt.title('Potassium Level')"
      ],
      "metadata": {
        "id": "D7uhG1wVVMEO"
      },
      "execution_count": null,
      "outputs": []
    },
    {
      "cell_type": "markdown",
      "source": [
        "* Data is right skewed\n",
        "* Most of the value range between 0 to 50\n",
        "* Minimum value is near 0 and maximum value is near 205"
      ],
      "metadata": {
        "id": "DfXP09UTWsFf"
      }
    },
    {
      "cell_type": "code",
      "source": [
        "plt.figure(figsize=(14,4))\n",
        "\n",
        "plt.subplot(122)\n",
        "sns.distplot(df['temperature'])\n",
        "plt.title(\"Tempreture\")"
      ],
      "metadata": {
        "id": "odaeftItWpjN"
      },
      "execution_count": null,
      "outputs": []
    },
    {
      "cell_type": "markdown",
      "source": [
        "* data is not completly normal\n",
        "* Most of the data point lie between 15 and 35\n",
        "* Minimun value is near 0 and maximum value is near 50"
      ],
      "metadata": {
        "id": "E0y6wVCVYuut"
      }
    },
    {
      "cell_type": "code",
      "source": [
        "plt.figure(figsize=(14,4))\n",
        "\n",
        "plt.subplot(122)\n",
        "sns.distplot(df['humidity'])\n",
        "plt.title(\"Humidity\")"
      ],
      "metadata": {
        "id": "VRw3fHmTZI1n"
      },
      "execution_count": null,
      "outputs": []
    },
    {
      "cell_type": "markdown",
      "source": [
        "* Data is left skewed.\n",
        "* Most of the data point lie between 60 and 100.\n",
        "* Minimum value is near 15 and maximum value is near 100."
      ],
      "metadata": {
        "id": "GZwEp92vZSGT"
      }
    },
    {
      "cell_type": "code",
      "source": [
        "plt.figure(figsize=(14,4))\n",
        "\n",
        "plt.subplot(122)\n",
        "sns.distplot(df['ph'])\n",
        "plt.title(\"ph\")"
      ],
      "metadata": {
        "id": "Ein43XMtZoGB"
      },
      "execution_count": null,
      "outputs": []
    },
    {
      "cell_type": "markdown",
      "source": [
        "* Data point is not normally distributed.\n",
        "* Most of the value lie between 5.5 and 8.\n",
        "* Minimum value is near 3 and Maximum value is near 10."
      ],
      "metadata": {
        "id": "SPXd6GUhZx4q"
      }
    },
    {
      "cell_type": "code",
      "source": [
        "plt.figure(figsize = (14,4))\n",
        "\n",
        "\n",
        "plt.subplot(122)\n",
        "sns.distplot(df['rainfall'])\n",
        "plt.title('Rainfall (cm)')"
      ],
      "metadata": {
        "id": "_DpwO73SZxOg"
      },
      "execution_count": null,
      "outputs": []
    },
    {
      "cell_type": "markdown",
      "source": [
        "* data point is right skewed.\n",
        "* Rainfall in the area mostly lie between 40 and 150\n",
        "* Minimum rainfall in the area is near 40 and maximum value in the area is near 300  "
      ],
      "metadata": {
        "id": "LV0f9Izwa4fl"
      }
    },
    {
      "cell_type": "code",
      "source": [
        "sns.barplot(x=df['N'],y=df['label'])"
      ],
      "metadata": {
        "id": "VF56d1uiXQ84"
      },
      "execution_count": null,
      "outputs": []
    },
    {
      "cell_type": "markdown",
      "source": [],
      "metadata": {
        "id": "SJh9UEX-XQrU"
      }
    },
    {
      "cell_type": "code",
      "source": [
        "sns.barplot(x=df['P'],y=df['label'])"
      ],
      "metadata": {
        "id": "kMDH2BOJboGh"
      },
      "execution_count": null,
      "outputs": []
    },
    {
      "cell_type": "code",
      "source": [
        "sns.barplot(x=df['K'],y=df['label'])"
      ],
      "metadata": {
        "id": "NP_CqUVAbpl4"
      },
      "execution_count": null,
      "outputs": []
    },
    {
      "cell_type": "code",
      "source": [
        "sns.barplot(x=df['temperature'],y=df['label'])"
      ],
      "metadata": {
        "id": "wCtt9nOJbsRn"
      },
      "execution_count": null,
      "outputs": []
    },
    {
      "cell_type": "code",
      "source": [
        "sns.barplot(x=df['humidity'],y=df['label'])"
      ],
      "metadata": {
        "id": "CZ-gWCA4bzo1"
      },
      "execution_count": null,
      "outputs": []
    },
    {
      "cell_type": "code",
      "source": [
        "sns.barplot(x=df['ph'],y=df['label'])"
      ],
      "metadata": {
        "id": "sN1jIFUacGpk"
      },
      "execution_count": null,
      "outputs": []
    },
    {
      "cell_type": "code",
      "source": [
        "sns.barplot(x=df['rainfall'],y=df['label'])"
      ],
      "metadata": {
        "id": "tZOvE92vcKCR"
      },
      "execution_count": null,
      "outputs": []
    },
    {
      "cell_type": "code",
      "source": [
        "sns.scatterplot(x=df['N'],y=df['K'],hue=df['label'])"
      ],
      "metadata": {
        "id": "tmczfkHZcOPT"
      },
      "execution_count": null,
      "outputs": []
    },
    {
      "cell_type": "code",
      "source": [
        "sns.scatterplot(x=df['N'],y=df['P'],hue=df['label'])"
      ],
      "metadata": {
        "id": "6xgPyGB6cd6s"
      },
      "execution_count": null,
      "outputs": []
    },
    {
      "cell_type": "code",
      "source": [],
      "metadata": {
        "id": "7vuO7lA0dgjn"
      },
      "execution_count": null,
      "outputs": []
    },
    {
      "cell_type": "markdown",
      "source": [
        "# ***Data Preprocessing***"
      ],
      "metadata": {
        "id": "C2kEEBpPdnBU"
      }
    },
    {
      "cell_type": "code",
      "source": [
        "df.isnull().sum()"
      ],
      "metadata": {
        "id": "omHtAJrRduKz"
      },
      "execution_count": null,
      "outputs": []
    },
    {
      "cell_type": "code",
      "source": [
        "plt.figure(figsize=(14,10))\n",
        "plotnumber = 1\n",
        "for col in df.columns:\n",
        "  if plotnumber<=7:\n",
        "    ax = plt.subplot(4,2,plotnumber)\n",
        "    sns.boxplot(x = df[col])\n",
        "    plt.xlabel(col,fontsize=10)\n",
        "    plt.ylabel('count',fontsize=10)\n",
        "\n",
        "    plotnumber+=1\n",
        "\n",
        "  plt.tight_layout()"
      ],
      "metadata": {
        "id": "VBbuAlROmPIS"
      },
      "execution_count": null,
      "outputs": []
    },
    {
      "cell_type": "code",
      "source": [
        "# creating a wisker function which will reutrn the lower and upper wisker\n",
        "\n",
        "def wisker(col):\n",
        "  Q1,Q3 = np.percentile(col,[25,75])\n",
        "  IQR = Q3 - Q1\n",
        "  lw = Q1-1.5*IQR\n",
        "  uw = Q3+1.5*IQR\n",
        "  return lw,uw"
      ],
      "metadata": {
        "id": "KOS0F6hLnN0M"
      },
      "execution_count": null,
      "outputs": []
    },
    {
      "cell_type": "code",
      "source": [
        "# Applying wisker function on columns which contain outliers\n",
        "\n",
        "for i in ['P','K','temperature','humidity','ph','rainfall']:\n",
        "  lw,uw = wisker(df[i])\n",
        "  df[i] = np.where(df[i]<lw,lw,df[i])\n",
        "  df[i] = np.where(df[i]>uw,uw,df[i])\n"
      ],
      "metadata": {
        "id": "I4lY4_AEpMAm"
      },
      "execution_count": null,
      "outputs": []
    },
    {
      "cell_type": "code",
      "source": [
        "plt.figure(figsize=(14,10))\n",
        "plotnumber = 1\n",
        "for col in df.columns:\n",
        "  if plotnumber<=7:\n",
        "    ax = plt.subplot(4,2,plotnumber)\n",
        "    sns.boxplot(x = df[col])\n",
        "    plt.xlabel(col,fontsize=10)\n",
        "    plt.ylabel('count',fontsize=10)\n",
        "\n",
        "    plotnumber+=1\n",
        "\n",
        "  plt.tight_layout()"
      ],
      "metadata": {
        "id": "VIZrbQr4p6r0"
      },
      "execution_count": null,
      "outputs": []
    },
    {
      "cell_type": "markdown",
      "source": [
        "# Splitting data into test and train dataset"
      ],
      "metadata": {
        "id": "dn5TKQnCqnXv"
      }
    },
    {
      "cell_type": "code",
      "source": [
        "x= df.drop('label',axis=1)\n",
        "y = df['label']"
      ],
      "metadata": {
        "id": "ACyiua3wqN_f"
      },
      "execution_count": null,
      "outputs": []
    },
    {
      "cell_type": "code",
      "source": [
        "x_train,x_test,y_train,y_test = train_test_split(x,y,test_size = 0.25,random_state=5)"
      ],
      "metadata": {
        "id": "VsY9JYNJq3dE"
      },
      "execution_count": null,
      "outputs": []
    },
    {
      "cell_type": "code",
      "source": [
        "x_train"
      ],
      "metadata": {
        "id": "UC1oXjwMsnAe"
      },
      "execution_count": null,
      "outputs": []
    },
    {
      "cell_type": "code",
      "source": [
        "rf =RandomForestClassifier(n_estimators=100,max_depth=35, min_samples_split=2, min_samples_leaf=1)\n",
        "rf.fit(x_train,y_train)\n",
        "y_pred = rf.predict(x_test)\n",
        "print('Accuracy',accuracy_score(y_test,y_pred))\n",
        "print('Classification_Report',classification_report(y_test,y_pred))"
      ],
      "metadata": {
        "id": "R0oy-V_HX_g2"
      },
      "execution_count": null,
      "outputs": []
    },
    {
      "cell_type": "code",
      "source": [
        "import pickle\n",
        "pickle.dump(rf,open('model.pkl','wb'))"
      ],
      "metadata": {
        "id": "8k6BtHR0Y0S4"
      },
      "execution_count": null,
      "outputs": []
    },
    {
      "cell_type": "code",
      "source": [
        "# Now we will apply standard scaler and create pipeline\n",
        "# step1 = ColumnTransformer(transformers=[\n",
        "#     ('col_trf',StandardScaler(),[0,1,2,3,4,5,6])\n",
        "# ],remainder = 'passthrough')\n",
        "\n",
        "# step2 = LogisticRegression()\n",
        "\n",
        "# pipe = Pipeline([\n",
        "#     ('step1',step1),\n",
        "#     ('step2',step2)\n",
        "# ])\n",
        "\n",
        "# pipe.fit(x_train,y_train)\n",
        "\n",
        "# y_pred = pipe.predict(x_test)\n",
        "\n",
        "# print('Accuracy',accuracy_score(y_test,y_pred))\n",
        "# print('Classification_Report',classification_report(y_test,y_pred))\n",
        "\n"
      ],
      "metadata": {
        "id": "-RFTP0uircq9"
      },
      "execution_count": null,
      "outputs": []
    },
    {
      "cell_type": "code",
      "source": [
        "# Now we will apply standard scaler and create pipeline\n",
        "# step1 = ColumnTransformer(transformers=[\n",
        "#     ('col_trf',StandardScaler(),[0,1,2,3,4,5,6])\n",
        "# ],remainder = 'passthrough')\n",
        "\n",
        "# step2 = RandomForestClassifier(n_estimators=100,max_depth=35, min_samples_split=2, min_samples_leaf=1)\n",
        "\n",
        "# pipe = Pipeline([\n",
        "#     ('step1',step1),\n",
        "#     ('step2',step2)\n",
        "# ])\n",
        "\n",
        "# pipe.fit(x_train,y_train)\n",
        "\n",
        "# y_pred = pipe.predict(x_test)\n",
        "\n",
        "# print('Accuracy',accuracy_score(y_test,y_pred))\n",
        "# print('Classification_Report',classification_report(y_test,y_pred))\n"
      ],
      "metadata": {
        "id": "K3rlNGkRuDRX"
      },
      "execution_count": null,
      "outputs": []
    },
    {
      "cell_type": "code",
      "source": [
        "# Now we will apply standard scaler and create pipeline\n",
        "# step1 = ColumnTransformer(transformers=[\n",
        "#     ('col_trf',StandardScaler(),[0,1,2,3,4,5,6])\n",
        "# ],remainder = 'passthrough')\n",
        "\n",
        "# step2 = DecisionTreeClassifier(max_depth=35, splitter='best',min_samples_split=2, min_samples_leaf=1)\n",
        "\n",
        "# pipe = Pipeline([\n",
        "#     ('step1',step1),\n",
        "#     ('step2',step2)\n",
        "# ])\n",
        "\n",
        "# pipe.fit(x_train,y_train)\n",
        "\n",
        "# y_pred = pipe.predict(x_test)\n",
        "\n",
        "# print('Accuracy',accuracy_score(y_test,y_pred))\n",
        "# print('Classification_Report',classification_report(y_test,y_pred))"
      ],
      "metadata": {
        "id": "FLNfhWVkw0tf"
      },
      "execution_count": null,
      "outputs": []
    },
    {
      "cell_type": "code",
      "source": [
        "# import pickle\n",
        "\n",
        "# pickle.dump(df,open('data.pkl','wb'))\n",
        "# pickle.dump(pipe,open('pipe.pkl','wb'))"
      ],
      "metadata": {
        "id": "NgieVSjTxtQM"
      },
      "execution_count": null,
      "outputs": []
    },
    {
      "cell_type": "code",
      "source": [],
      "metadata": {
        "id": "TWRW_645yBeV"
      },
      "execution_count": null,
      "outputs": []
    }
  ]
}